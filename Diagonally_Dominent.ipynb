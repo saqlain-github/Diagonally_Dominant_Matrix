{
 "cells": [
  {
   "cell_type": "code",
   "execution_count": 1,
   "id": "10fbbf43-6f3e-417a-888a-c8878fbf1d78",
   "metadata": {},
   "outputs": [],
   "source": [
    "import numpy as np\n",
    "from math import sqrt"
   ]
  },
  {
   "cell_type": "code",
   "execution_count": 2,
   "id": "16bed22e-a01e-4c51-8eec-b03972ac3094",
   "metadata": {},
   "outputs": [],
   "source": [
    "#Diagonallly Dominenant\n",
    "\n",
    "def check_Diagonal_Dominent(m, n) :\n",
    "    for i in range(0, n) :\n",
    "        sum = 0\n",
    "        for j in range(0, n) :\n",
    "            sum = sum + abs(m[i][j])    \n",
    "        sum = sum - abs(m[i][i])\n",
    "        if (abs(m[i][i]) < sum) :\n",
    "            return False\n",
    " \n",
    "    return True"
   ]
  },
  {
   "cell_type": "code",
   "execution_count": 3,
   "id": "0c895914-6bcd-4cbd-b6dc-bc46d76b45d4",
   "metadata": {},
   "outputs": [],
   "source": [
    "def make_Diagonali_Dominent(D):\n",
    "    A=np.array((D),dtype=float)\n",
    "    n = len(A[0])\n",
    "    flag  = False\n",
    "    for i in range(0,n-1):     \n",
    "        sum = np.sum(np.abs(A[i,]))\n",
    "        sum = sum - np.abs(A[i,i])\n",
    "        if np.abs(A[i,i]) < sum:\n",
    "            for k in range(i+1,n):\n",
    "                sum = np.sum(np.abs(A[k,]))\n",
    "                sum = sum - np.abs(A[k,i])\n",
    "                if np.abs(A[k,i]) > sum:\n",
    "                    A[[i,k]]=A[[k,i]] \n",
    "                    print(\"Swap %d with %d \"%(i,k))\n",
    "                    flag = True\n",
    "                    break\n",
    "                else:\n",
    "                    flag = False\n",
    "                    return A,\"Not Possible to make DD\"\n",
    "        \n",
    "    return A,\"It's Possible Make it DD\""
   ]
  },
  {
   "cell_type": "code",
   "execution_count": 4,
   "id": "47c5ebb6-1231-41dc-b9e8-8b89ce43dd0b",
   "metadata": {},
   "outputs": [
    {
     "name": "stdout",
     "output_type": "stream",
     "text": [
      "[[100   3   5   4]\n",
      " [  1   9   1   4]\n",
      " [  6   7   3  20]\n",
      " [  5   7  17   1]]\n",
      "Not Dominant\n",
      "Swap 2 with 3 \n",
      "It's Possible Make it DD\n",
      "[[100.   3.   5.   4.]\n",
      " [  1.   9.   1.   4.]\n",
      " [  5.   7.  17.   1.]\n",
      " [  6.   7.   3.  20.]]\n"
     ]
    }
   ],
   "source": [
    "A = np.array([[100,3,5,4],\n",
    "              [1,9,1,4],\n",
    "              [6,7,3,20],\n",
    "              [5,7,17,1]])\n",
    "print(A)\n",
    "s = check_Diagonal_Dominent(A,len(A))\n",
    "if not s :\n",
    "    print(\"Not Dominant\")\n",
    "    A = make_Diagonali_Dominent(A)\n",
    "    print(A[1])\n",
    "    print(A[0])\n",
    "    \n",
    "else :\n",
    "    print(\"Is Diagonally Dominant\")"
   ]
  },
  {
   "cell_type": "code",
   "execution_count": null,
   "id": "177f7c89-cf64-4c14-b627-c4df583a88b9",
   "metadata": {},
   "outputs": [],
   "source": []
  }
 ],
 "metadata": {
  "kernelspec": {
   "display_name": "Python 3 (ipykernel)",
   "language": "python",
   "name": "python3"
  },
  "language_info": {
   "codemirror_mode": {
    "name": "ipython",
    "version": 3
   },
   "file_extension": ".py",
   "mimetype": "text/x-python",
   "name": "python",
   "nbconvert_exporter": "python",
   "pygments_lexer": "ipython3",
   "version": "3.9.7"
  }
 },
 "nbformat": 4,
 "nbformat_minor": 5
}
